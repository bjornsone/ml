{
 "cells": [
  {
   "cell_type": "markdown",
   "metadata": {},
   "source": [
    "### Line Fitting using Tensorflow\n",
    "* Demonstrates simple optimization logic with basic tensorflow (without using tflearn).\n",
    "* It finds the slope and intercept that best minimize the mean squared error."
   ]
  },
  {
   "cell_type": "code",
   "execution_count": 5,
   "metadata": {},
   "outputs": [
    {
     "name": "stdout",
     "output_type": "stream",
     "text": [
      "Ideal Values: weight=0.50  Offset=0.30\n",
      "w=0.49670 b=0.28471 train_loss=0.04178 test_loss=0.03577    \r"
     ]
    }
   ],
   "source": [
    "import tensorflow as tf\n",
    "import numpy as np\n",
    "\n",
    "def generate_data_np():\n",
    "    data_count = 1000\n",
    "    w, b = .5, .3\n",
    "    \n",
    "    x_np = np.random.rand(data_count).astype(np.float32)\n",
    "    # Create y_data as an affine transform of x with additional noise\n",
    "    y_np = x_np*w + b;\n",
    "    y_np += np.random.normal(0, .2, data_count).astype(np.float32)\n",
    "    print(\"Ideal Values: weight=%.2f  Offset=%.2f\" % (w, b))\n",
    "    return x_np, y_np\n",
    "    \n",
    "# Define the model\n",
    "x_tf = tf.placeholder(\"float32\", [None], \"x_tensor\")\n",
    "y_tf = tf.placeholder(\"float32\", [None], \"y_tensor\")\n",
    "\n",
    "w = tf.Variable(tf.random_uniform([1], -.10, .10))\n",
    "b = tf.Variable(tf.zeros([1]))\n",
    "y_out_tf = x_tf * w + b\n",
    "\n",
    "# Define the loss that is to be minimized (mean squared error)\n",
    "loss = tf.reduce_mean(tf.square(y_tf - y_out_tf))\n",
    "\n",
    "# AdamOptimizer fits MUCH faster that SGD (try it both ways!)\n",
    "# optimizer = tf.train.GradientDescentOptimizer(0.010)\n",
    "optimizer = tf.train.AdamOptimizer(2e-4)\n",
    "train = optimizer.minimize(loss)\n",
    "\n",
    "with tf.Session() as sess:\n",
    "    # Generate data that is approximately linear\n",
    "    x_np, y_np = generate_data_np()\n",
    "    train_size = 500\n",
    "    # Split data into training and testing\n",
    "    x_np_train, x_np_test = x_np[:train_size], x_np[train_size:]\n",
    "    y_np_train, y_np_test = y_np[:train_size], y_np[train_size:]\n",
    "    \n",
    "    sess.run(tf.global_variables_initializer())\n",
    "\n",
    "    # Fit the line.\n",
    "    losses = []\n",
    "    step_counts = []\n",
    "    for step in range(1000*10 + 1):\n",
    "        train_result, w_result, b_result, loss_result = sess.run([train, w, b, loss],\n",
    "           feed_dict={x_tf: x_np_train, y_tf: y_np_train})\n",
    "        # Every 500 cycles, measure how the loss function performs on the testing data set\n",
    "        if step % 500 == 0:\n",
    "            test_loss, = sess.run([loss], feed_dict={x_tf: x_np_test, y_tf: y_np_test})\n",
    "            print(\"w=%.5f b=%.5f train_loss=%.5f test_loss=%.5f   \\r\" % \n",
    "                  (w_result, b_result, loss_result, test_loss), end='', flush=True)\n",
    "            losses.append(test_loss)\n",
    "            step_counts.append(step)"
   ]
  },
  {
   "cell_type": "markdown",
   "metadata": {},
   "source": [
    "### Plot the Loss\n",
    "* The previous step gathered data, so now we plot it for a simple visualization. <br/>\n",
    "* It shows how the loss decreases as time progresses."
   ]
  },
  {
   "cell_type": "code",
   "execution_count": 6,
   "metadata": {},
   "outputs": [
    {
     "data": {
      "image/png": "[encoded data removed]",
      "text/plain": [
       "<matplotlib.figure.Figure at 0x7f0ea8e07f98>"
      ]
     },
     "metadata": {},
     "output_type": "display_data"
    }
   ],
   "source": [
    "import matplotlib.pyplot as plt\n",
    "%matplotlib inline\n",
    "\n",
    "plt.plot(step_counts, losses, '-');"
   ]
  }
 ],
 "metadata": {
  "kernelspec": {
   "display_name": "Python 3",
   "language": "python",
   "name": "python3"
  },
  "language_info": {
   "codemirror_mode": {
    "name": "ipython",
    "version": 3
   },
   "file_extension": ".py",
   "mimetype": "text/x-python",
   "name": "python",
   "nbconvert_exporter": "python",
   "pygments_lexer": "ipython3",
   "version": "3.4.3"
  }
 },
 "nbformat": 4,
 "nbformat_minor": 2
}
