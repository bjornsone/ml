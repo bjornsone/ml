{
 "cells": [
  {
   "cell_type": "markdown",
   "metadata": {},
   "source": [
    "Without doing any calculations, there are several TF functions for shaping the data\n",
    "* shape: changes the dimensions of a set of data (e.g. a 2x6 array becomes a 2x2x3 array)\n",
    "* tranpose: flips an array along any chosen axes\n",
    "* indexing: returns a lower dimensional tensor contained within the specified index of the input tensor\n",
    "* slice: returns a continuous subset within the specified range of the input tensor\n",
    "* gather: returns a tensor formed from catenating selected indicies of the input tensor\n",
    "* gather_nd: returns a tensor formed from catenating selected subtensors of the input tensor\n",
    "* split\n",
    "* stack and unstack"
   ]
  },
  {
   "cell_type": "markdown",
   "metadata": {},
   "source": [
    "### Transpose\n",
    "Takes an tensor of data and an array which defines the new order of the indexes <br/>\n",
    "Examples\n",
    "* 2D array: [0, 1] does no permutation\n",
    "* 2D array: [1, 0] transposes the array\n",
    "* 3D array: [0, 2, 1] keeps the outermost order, but tranposes the inner dimensions\n",
    "* 3D array: [2, 1, 0] keeps the middle order, but tranposes the first and last dimensions"
   ]
  },
  {
   "cell_type": "code",
   "execution_count": 1,
   "metadata": {},
   "outputs": [
    {
     "name": "stdout",
     "output_type": "stream",
     "text": [
      "Original\n",
      " [[[  1.   2.   3.]\n",
      "  [  4.   5.   6.]]\n",
      "\n",
      " [[ 51.  52.  53.]\n",
      "  [ 54.  55.  56.]]]\n",
      "Transposed\n",
      " [[[  1.   2.   3.]\n",
      "  [ 51.  52.  53.]]\n",
      "\n",
      " [[  4.   5.   6.]\n",
      "  [ 54.  55.  56.]]]\n"
     ]
    }
   ],
   "source": [
    "import tensorflow as tf\n",
    "import numpy as np\n",
    "\n",
    "with tf.Session() as sess:\n",
    "    x_np = np.array([[[1,2,3], [4,5,6]], [[51,52,53], [54,55,56]]])\n",
    "\n",
    "    x_tf = tf.Variable(x_np, dtype=tf.float32)\n",
    "    sess.run(tf.global_variables_initializer())\n",
    "    print(\"Original\\n\", sess.run(x_tf))\n",
    "\n",
    "    # Flip the first two indexes, but keep the order of the innermost index\n",
    "    transpose_tf = tf.transpose(x_tf, perm=[1, 0, 2])\n",
    "    sess.run(tf.global_variables_initializer())\n",
    "    print(\"Transposed\\n\", sess.run(transpose_tf))\n",
    "\n"
   ]
  },
  {
   "cell_type": "markdown",
   "metadata": {},
   "source": [
    "### Indexing\n",
    "Each time indexing is done, the dimension of the result is reduced by one"
   ]
  },
  {
   "cell_type": "code",
   "execution_count": 2,
   "metadata": {},
   "outputs": [
    {
     "name": "stdout",
     "output_type": "stream",
     "text": [
      "Index only along the first axis (2D result)\n",
      " [[ 1.  2.  3.]\n",
      " [ 4.  5.  6.]]\n",
      "Index along the first two axes (1D result)\n",
      " [ 4.  5.  6.]\n",
      "Index along all three axes (scalar result)\n",
      " 6.0\n",
      "Index along all three axes (scalar result)\n",
      " 6.0\n"
     ]
    }
   ],
   "source": [
    "with tf.Session() as sess:\n",
    "    x0_tf = x_tf[0]  # reduces the dimensionality by 1\n",
    "    sess.run(tf.global_variables_initializer())\n",
    "    print(\"Index only along the first axis (2D result)\\n\", sess.run(x0_tf))\n",
    "    \n",
    "    x01_tf = x_tf[0][1]  # reduces the dimensionality by 2\n",
    "    sess.run(tf.global_variables_initializer())\n",
    "    print(\"Index along the first two axes (1D result)\\n\", sess.run(x01_tf))\n",
    "\n",
    "    x012_tf = x_tf[0][1][2] # reduces the dimensionality by 3\n",
    "    sess.run(tf.global_variables_initializer())\n",
    "    print(\"Index along all three axes (scalar result)\\n\", sess.run(x012_tf))\n",
    "\n",
    "    x012_tf = x_tf[0, 1, 2] # different syntax which produces same result\n",
    "    sess.run(tf.global_variables_initializer())\n",
    "    print(\"Index along all three axes (scalar result)\\n\", sess.run(x012_tf))\n",
    "\n"
   ]
  },
  {
   "cell_type": "markdown",
   "metadata": {},
   "source": [
    "### Slicing\n",
    "Slicing does NOT reduce the dimensionality of the result"
   ]
  },
  {
   "cell_type": "code",
   "execution_count": 3,
   "metadata": {},
   "outputs": [
    {
     "name": "stdout",
     "output_type": "stream",
     "text": [
      "Take a slice in the last axis (3D result)\n",
      " [[[  2.   3.]\n",
      "  [  5.   6.]]\n",
      "\n",
      " [[ 52.  53.]\n",
      "  [ 55.  56.]]]\n",
      "Take a slice in the last axis (3D result)\n",
      " [[[  2.   3.]\n",
      "  [  5.   6.]]\n",
      "\n",
      " [[ 52.  53.]\n",
      "  [ 55.  56.]]]\n",
      "Index along the first two axes and take a slice of the last (1D result)\n",
      " [ 5.  6.]\n"
     ]
    }
   ],
   "source": [
    "with tf.Session() as sess:\n",
    "    x0full0_tf = x_tf[:,:,1:]  # notice the commas.  This is not the same as [:][:][1:]\n",
    "    sess.run(tf.global_variables_initializer())\n",
    "    print(\"Take a slice in the last axis (3D result)\\n\", sess.run(x0full0_tf))\n",
    "\n",
    "    # slice takes an array of initial indexes and an array of lengths\n",
    "    x0full0_tf = tf.slice(x_tf, [0, 0, 1], [2, 2, 2])  # this is the same as the previous example\n",
    "    sess.run(tf.global_variables_initializer())\n",
    "    print(\"Take a slice in the last axis (3D result)\\n\", sess.run(x0full0_tf))\n",
    "\n",
    "    x01range_tf = x_tf[0][1][1:]\n",
    "    sess.run(tf.global_variables_initializer())\n",
    "    print(\"Index along the first two axes and take a slice of the last (1D result)\\n\", sess.run(x01range_tf))\n",
    "\n"
   ]
  },
  {
   "cell_type": "markdown",
   "metadata": {},
   "source": [
    "### Gather\n",
    "* Creates a new tensor by catenating selected indices from the input tensor\n",
    "* `gather` only does selection based on indexes within the first dimension of the input tensor\n",
    "* Passing a 1-D list for the `indices`\n",
    " * `gather` selects a subset based on a list of indexes that is provided\n",
    " * the tensor that is returned has the same number of dimensions as the input tensor\n",
    "* Passing a 2-D list for the `indices`\n",
    " * `gather` does the same as for the 1-D case, but it does it multiple times\n",
    " * the tensor that is returned has one more dimension than the input tensor\n",
    "* If selection is required on a dimension other than the first dimension, then `transpose` may be needed before using `gather`\n",
    "[gather official doc](https://www.tensorflow.org/api_docs/python/tf/gather)"
   ]
  },
  {
   "cell_type": "code",
   "execution_count": 4,
   "metadata": {},
   "outputs": [
    {
     "name": "stdout",
     "output_type": "stream",
     "text": [
      "Original\n",
      " [[[  1.   2.   3.]\n",
      "  [  4.   5.   6.]]\n",
      "\n",
      " [[ 21.  22.  23.]\n",
      "  [ 24.  25.  26.]]\n",
      "\n",
      " [[ 41.  42.  43.]\n",
      "  [ 44.  45.  46.]]]\n",
      "3D result from gathering [0, 2]\n",
      " [[[  1.   2.   3.]\n",
      "  [  4.   5.   6.]]\n",
      "\n",
      " [[ 41.  42.  43.]\n",
      "  [ 44.  45.  46.]]]\n",
      "4D result from gathering [0, 2] twice\n",
      " [[[[  1.   2.   3.]\n",
      "   [  4.   5.   6.]]\n",
      "\n",
      "  [[ 41.  42.  43.]\n",
      "   [ 44.  45.  46.]]]\n",
      "\n",
      "\n",
      " [[[  1.   2.   3.]\n",
      "   [  4.   5.   6.]]\n",
      "\n",
      "  [[ 41.  42.  43.]\n",
      "   [ 44.  45.  46.]]]]\n"
     ]
    }
   ],
   "source": [
    "import tensorflow as tf\n",
    "import numpy as np\n",
    "with tf.Session() as sess:\n",
    "    x_np = np.array([[[1,2,3], [4,5,6]], [[21,22,23], [24,25,26]], [[41,42,43], [44,45,46]]])\n",
    "\n",
    "    x_tf = tf.Variable(x_np, dtype=tf.float32)\n",
    "    sess.run(tf.global_variables_initializer())\n",
    "    print(\"Original\\n\", sess.run(x_tf))\n",
    "    \n",
    "    # data is 3D.  Result is 3D by gathering together the 0th and 2nd 2D slices\n",
    "    print(\"3D result from gathering [0, 2]\\n\", sess.run(tf.gather(x_tf, [0, 2])))\n",
    "    # data is 3D.  Result is 4D by gathering together the 0th and 2nd 2D slices twice\n",
    "    print(\"4D result from gathering [0, 2] twice\\n\", sess.run(tf.gather(x_tf, [[0, 2], [0, 2]])))\n"
   ]
  },
  {
   "cell_type": "markdown",
   "metadata": {},
   "source": [
    "### Gather_nd\n",
    "* Creates a new tensor by catenating selected sub-tensors from the input tensor\n",
    "* `gather_nd` allows indexing to select a subset from any depth within the input tensor\n",
    "* To contrast `gather_nd` from `gather`, indices of `[1, 2]`\n",
    " * for `gather` this means select from positions 1 and position 2 within the first dimension\n",
    " * for `gather_nd` this means to select from position 1 in the first dimension and from position 2 within the second dimension\n",
    "* Similar to `gather`, `gather_nd` can take an input that is 2D which will create a result that is effectively an array formed by repeating the 1D case multiple times"
   ]
  },
  {
   "cell_type": "code",
   "execution_count": 5,
   "metadata": {},
   "outputs": [
    {
     "name": "stdout",
     "output_type": "stream",
     "text": [
      "Original\n",
      " [[[  1.   2.   3.]\n",
      "  [  4.   5.   6.]]\n",
      "\n",
      " [[ 21.  22.  23.]\n",
      "  [ 24.  25.  26.]]\n",
      "\n",
      " [[ 41.  42.  43.]\n",
      "  [ 44.  45.  46.]]]\n",
      "1D result from indices [1, 1]\n",
      " [ 24.  25.  26.]\n",
      "2D result from indices [[1, 1], [2, 0]]\n",
      " [[ 24.  25.  26.]\n",
      " [ 41.  42.  43.]]\n"
     ]
    }
   ],
   "source": [
    "with tf.Session() as sess:\n",
    "    sess.run(tf.global_variables_initializer())\n",
    "    print(\"Original\\n\", sess.run(x_tf))\n",
    "\n",
    "    # Result is 1D since we have indexed two levels within a 3D tensor\n",
    "    print(\"1D result from indices [1, 1]\\n\", sess.run(tf.gather_nd(x_tf, [1, 1])))\n",
    "    # Result is 2D by gathering together two 1D slices (each 1D slice comes from indexed two levels within a 3D tensor)\n",
    "    print(\"2D result from indices [[1, 1], [2, 0]]\\n\", sess.run(tf.gather_nd(x_tf, [[1, 1], [2, 0]])))\n"
   ]
  },
  {
   "cell_type": "markdown",
   "metadata": {},
   "source": [
    "### split\n",
    "* separates an input tensor into multiple tensors\n",
    "* input tensor is split based on sizes within the specified axis\n",
    "\n",
    "\n"
   ]
  },
  {
   "cell_type": "code",
   "execution_count": 6,
   "metadata": {},
   "outputs": [
    {
     "name": "stdout",
     "output_type": "stream",
     "text": [
      "Original\n",
      " [[  1.   2.]\n",
      " [  3.   4.]\n",
      " [  5.   6.]\n",
      " [  7.   8.]\n",
      " [  9.  10.]\n",
      " [ 11.  12.]\n",
      " [ 13.  14.]\n",
      " [ 15.  16.]]\n",
      "Training\n",
      " [[ 1.  2.]\n",
      " [ 3.  4.]\n",
      " [ 5.  6.]\n",
      " [ 7.  8.]]\n",
      "Testing\n",
      " [[ 13.  14.]\n",
      " [ 15.  16.]]\n",
      "Validation\n",
      " [[  9.  10.]\n",
      " [ 11.  12.]]\n"
     ]
    }
   ],
   "source": [
    "import tensorflow as tf\n",
    "import numpy as np\n",
    "with tf.Session() as sess:\n",
    "    w_np = np.array([[1,2], [3,4], [5,6], [7,8], [9,10], [11,12], [13,14], [15,16]])\n",
    "\n",
    "    w_tf = tf.Variable(w_np, dtype=tf.float32)\n",
    "    sess.run(tf.global_variables_initializer())\n",
    "    print(\"Original\\n\", sess.run(w_tf))\n",
    "\n",
    "    #split into three tensors separated on axis=0\n",
    "    training, validation, testing = tf.split(w_tf, [4, 2, 2], 0)\n",
    "    print(\"Training\\n\",   sess.run(training))\n",
    "    print(\"Testing\\n\",    sess.run(testing))\n",
    "    print(\"Validation\\n\", sess.run(validation))\n",
    "    "
   ]
  },
  {
   "cell_type": "markdown",
   "metadata": {},
   "source": [
    "### stack and unstack\n",
    "* `stack` catenates a list of tensors along the specified axis\n",
    "* example for `stack` below is taken directly from [tensorflow documentation](https://www.tensorflow.org/api_docs/python/tf/stack)\n",
    "* `unstack` performs the opposite which will split a tensor apart into a list of tensors"
   ]
  },
  {
   "cell_type": "code",
   "execution_count": 7,
   "metadata": {},
   "outputs": [
    {
     "name": "stdout",
     "output_type": "stream",
     "text": [
      "Stack axis=0\n",
      " [[ 1.  4.]\n",
      " [ 2.  5.]\n",
      " [ 3.  6.]]\n",
      "Stack axis=1\n",
      " [[ 1.  2.  3.]\n",
      " [ 4.  5.  6.]]\n",
      "Recovered x by unstacking axis=0\n",
      " [ 1.  4.]\n",
      "Recovered y by unstacking axis=0\n",
      " [ 2.  5.]\n",
      "Recovered z by unstacking axis=0\n",
      " [ 3.  6.]\n",
      "Recovered x by unstacking axis=1\n",
      " [ 1.  4.]\n",
      "Recovered y by unstacking axis=1\n",
      " [ 2.  5.]\n",
      "Recovered z by unstacking axis=1\n",
      " [ 3.  6.]\n"
     ]
    }
   ],
   "source": [
    "with tf.Session() as sess:\n",
    "    x_tf = tf.Variable(np.array([1, 4]), dtype=tf.float32)\n",
    "    y_tf = tf.Variable(np.array([2, 5]), dtype=tf.float32)\n",
    "    z_tf = tf.Variable(np.array([3, 6]), dtype=tf.float32)\n",
    "\n",
    "    # Pack along the default of the first dimension (axis=0)\n",
    "    s0_tf = tf.stack([x_tf, y_tf, z_tf])\n",
    "    # Pack along the second dimension\n",
    "    s1_tf = tf.stack([x_tf, y_tf, z_tf], axis=1)\n",
    "    \n",
    "    sess.run(tf.global_variables_initializer())\n",
    "    print(\"Stack axis=0\\n\", sess.run(s0_tf))\n",
    "    print(\"Stack axis=1\\n\", sess.run(s1_tf))\n",
    "\n",
    "    # Unpack to see if the original tensors can be recovered (return value is a list of tensors)\n",
    "    r0_tf = tf.unstack(s0_tf, axis=0)\n",
    "    r1_tf = tf.unstack(s1_tf, axis=1)\n",
    "    print(\"Recovered x by unstacking axis=0\\n\", sess.run(r0_tf[0])) # evaluate the first tensor in the list\n",
    "    print(\"Recovered y by unstacking axis=0\\n\", sess.run(r0_tf[1]))\n",
    "    print(\"Recovered z by unstacking axis=0\\n\", sess.run(r0_tf[2]))\n",
    "    print(\"Recovered x by unstacking axis=1\\n\", sess.run(r1_tf[0]))\n",
    "    print(\"Recovered y by unstacking axis=1\\n\", sess.run(r1_tf[1]))\n",
    "    print(\"Recovered z by unstacking axis=1\\n\", sess.run(r1_tf[2]))\n",
    "\n",
    "    "
   ]
  }
 ],
 "metadata": {
  "kernelspec": {
   "display_name": "Python 3",
   "language": "python",
   "name": "python3"
  },
  "language_info": {
   "codemirror_mode": {
    "name": "ipython",
    "version": 3
   },
   "file_extension": ".py",
   "mimetype": "text/x-python",
   "name": "python",
   "nbconvert_exporter": "python",
   "pygments_lexer": "ipython3",
   "version": "3.4.3"
  }
 },
 "nbformat": 4,
 "nbformat_minor": 2
}
