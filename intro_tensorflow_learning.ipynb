{
 "cells": [
  {
   "cell_type": "markdown",
   "metadata": {},
   "source": [
    "## Tensorflow Learning\n",
    "### Load mnist data"
   ]
  },
  {
   "cell_type": "code",
   "execution_count": 8,
   "metadata": {},
   "outputs": [
    {
     "name": "stdout",
     "output_type": "stream",
     "text": [
      "Extracting MNIST_data/train-images-idx3-ubyte.gz\n",
      "Extracting MNIST_data/train-labels-idx1-ubyte.gz\n",
      "Extracting MNIST_data/t10k-images-idx3-ubyte.gz\n",
      "Extracting MNIST_data/t10k-labels-idx1-ubyte.gz\n",
      "x shape =  (100, 784)   y shape =  (100, 10)\n",
      "Total Data Points = 55000\n"
     ]
    }
   ],
   "source": [
    "import tensorflow as tf\n",
    "import numpy as np\n",
    "\n",
    "from tensorflow.examples.tutorials.mnist import input_data\n",
    "mnist = input_data.read_data_sets('MNIST_data', one_hot=True)\n",
    "batch = mnist.train.next_batch(100)\n",
    "x, y = batch[0], batch[1]  # obtain numpy arrays for 100 chars w/ one_hot output\n",
    "print('x shape = ', x.shape, '  y shape = ', y.shape)\n",
    "print('Total Data Points = %d' % mnist.train.num_examples)"
   ]
  },
  {
   "cell_type": "markdown",
   "metadata": {},
   "source": [
    "### Define Model\n",
    "Includes two layers with dropout."
   ]
  },
  {
   "cell_type": "code",
   "execution_count": 9,
   "metadata": {},
   "outputs": [
    {
     "name": "stdout",
     "output_type": "stream",
     "text": [
      "Done defining model\n"
     ]
    }
   ],
   "source": [
    "tf.reset_default_graph()\n",
    "\n",
    "keep_prob = tf.placeholder(tf.float32, name=\"dropout\")  # scalar variable\n",
    "\n",
    "mid_size = 200\n",
    "\n",
    "x = tf.placeholder(tf.float32, shape=[None, 784], name='x_data')\n",
    "y = tf.placeholder(tf.float32, shape=[None, 10], name='y_data')\n",
    "\n",
    "weights1 = tf.Variable(tf.random_normal([784, mid_size], stddev=0.35), name=\"weights1\")\n",
    "biases1 = tf.Variable(tf.zeros([mid_size]), name=\"biases1\")\n",
    "\n",
    "weights2 = tf.Variable(tf.random_normal([mid_size, 10], stddev=0.35), name=\"weights2\")\n",
    "biases2 = tf.Variable(tf.zeros([10]), name=\"biases2\")\n",
    "\n",
    "init_op = tf.global_variables_initializer()\n",
    " \n",
    "# hidden1 = tf.nn.dropout(tf.nn.relu(tf.matmul(x, weights1) + biases1), keep_prob)\n",
    "hidden1 = tf.nn.relu(tf.matmul(x, weights1) + biases1)\n",
    "prediction = tf.nn.softmax(tf.matmul(hidden1, weights2) + biases2)\n",
    "\n",
    "error = tf.reduce_mean(-tf.reduce_sum(y*tf.log(prediction), reduction_indices=1))\n",
    "error_reg = error  + 0.001*tf.nn.l2_loss(weights1) + 0.001*tf.nn.l2_loss(weights2)\n",
    "optimizer = tf.train.GradientDescentOptimizer(.1)  # learning rate\n",
    "train = optimizer.minimize(error_reg)\n",
    "print(\"Done defining model\")"
   ]
  },
  {
   "cell_type": "markdown",
   "metadata": {},
   "source": [
    "### Training\n",
    "[Good Example from aymericdamien](https://github.com/aymericdamien/TensorFlow-Examples/blob/master/examples/2_BasicModels/logistic_regression.py)"
   ]
  },
  {
   "cell_type": "code",
   "execution_count": 11,
   "metadata": {},
   "outputs": [
    {
     "name": "stdout",
     "output_type": "stream",
     "text": [
      "Epoch:   0  Error: 0.489\n",
      "Epoch:  10  Error: 0.108\n",
      "Epoch:  20  Error: 0.066\n",
      "Epoch:  30  Error: 0.081\n",
      "Epoch:  40  Error: 0.043\n",
      "Epoch:  50  Error: 0.074\n",
      "Epoch:  60  Error: 0.048\n",
      "Epoch:  70  Error: 0.035\n",
      "Epoch:  80  Error: 0.041\n",
      "Epoch:  90  Error: 0.072\n",
      "Epoch: 100  Error: 0.038\n"
     ]
    }
   ],
   "source": [
    "batch_size = 200\n",
    "mini_batch_count = int(mnist.train.num_examples/batch_size)\n",
    "error_values = []\n",
    "epoch_values = range(101)\n",
    "with tf.Session() as sess:\n",
    "    sess.run(init_op)\n",
    "    for epoch in epoch_values:\n",
    "        for mini_batch in range(mini_batch_count):\n",
    "            batch_xs, batch_ys = mnist.train.next_batch(batch_size)\n",
    "            error_val, _ = sess.run([error, train], feed_dict={x: batch_xs, y: batch_ys, keep_prob: 0.90})\n",
    "        error_values.append(error_val)\n",
    "        if(epoch % 10 == 0):\n",
    "            error_val = sess.run(error, feed_dict={x: batch_xs, y: batch_ys, keep_prob: 1.0})\n",
    "            print(\"Epoch: %3d  Error: %.3f\" % (epoch, error_val))\n",
    "            \n",
    "# Note: tf.argmax(y,1) is useful for finding the most likely index"
   ]
  },
  {
   "cell_type": "markdown",
   "metadata": {},
   "source": [
    "### Graph the results"
   ]
  },
  {
   "cell_type": "code",
   "execution_count": 12,
   "metadata": {},
   "outputs": [
    {
     "data": {
      "image/png": "[encoded data removed]",
      "text/plain": [
       "<matplotlib.figure.Figure at 0x7fb2d5bab198>"
      ]
     },
     "metadata": {},
     "output_type": "display_data"
    }
   ],
   "source": [
    "%matplotlib inline\n",
    "import matplotlib.pyplot as plt\n",
    "plt.plot(epoch_values, error_values, '-H');"
   ]
  }
 ],
 "metadata": {
  "kernelspec": {
   "display_name": "Python 3",
   "language": "python",
   "name": "python3"
  },
  "language_info": {
   "codemirror_mode": {
    "name": "ipython",
    "version": 3
   },
   "file_extension": ".py",
   "mimetype": "text/x-python",
   "name": "python",
   "nbconvert_exporter": "python",
   "pygments_lexer": "ipython3",
   "version": "3.4.3"
  }
 },
 "nbformat": 4,
 "nbformat_minor": 2
}
