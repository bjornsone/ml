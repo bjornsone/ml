{
 "cells": [
  {
   "cell_type": "code",
   "execution_count": 1,
   "metadata": {
    "collapsed": true
   },
   "outputs": [],
   "source": [
    "import tensorflow as tf\n",
    "import numpy as np"
   ]
  },
  {
   "cell_type": "markdown",
   "metadata": {},
   "source": [
    "### Default Variable Names\n",
    "* `global_variables` allows the current set of variables to be viewed\n",
    "* variables are given a name (default is \"Variable\")\n",
    "* if the specified name has already been created, tensorflow will add a postfix to the name for uniqueness\n",
    "* the name of the python variable has no affect on the name used by Tensorflow"
   ]
  },
  {
   "cell_type": "code",
   "execution_count": 2,
   "metadata": {},
   "outputs": [
    {
     "name": "stdout",
     "output_type": "stream",
     "text": [
      "List of Global Variables\n",
      "    Variable:0\n",
      "    Variable_1:0\n",
      "    Variable_2:0\n",
      "List of Global Variables\n",
      "    Variable:0\n",
      "    Variable_1:0\n",
      "    Variable_2:0\n",
      "    Variable_3:0\n",
      "    Variable_4:0\n",
      "    Variable_5:0\n"
     ]
    }
   ],
   "source": [
    "var1_tf = tf.Variable(42)  # default name is \"Variable\"\n",
    "var2_tf = tf.Variable(43)  # postfix is added \"Variable_1\"\n",
    "var3_tf = tf.Variable(44)  # postfix is added \"Variable_2\"\n",
    "\n",
    "print(\"List of Global Variables\")\n",
    "for v in tf.global_variables(): print('   ', v.name)\n",
    "\n",
    "# Repeating code will create 3 more tensorflow variables (but still only 3 python variables)\n",
    "var1_tf = tf.Variable(42)  # postfix is added \"Variable_3\"\n",
    "var2_tf = tf.Variable(43)  # postfix is added \"Variable_4\"\n",
    "var3_tf = tf.Variable(44)  # postfix is added \"Variable_5\"\n",
    "\n",
    "print(\"List of Global Variables\")\n",
    "for v in tf.global_variables(): print('   ', v.name)"
   ]
  },
  {
   "cell_type": "code",
   "execution_count": 3,
   "metadata": {},
   "outputs": [
    {
     "name": "stdout",
     "output_type": "stream",
     "text": [
      "List of Global Variables\n"
     ]
    }
   ],
   "source": [
    "# Variables may get cluttered, so they can be reset to get a clean start\n",
    "tf.reset_default_graph()\n",
    "\n",
    "print(\"List of Global Variables\")\n",
    "for v in tf.global_variables(): print('   ', v.name)"
   ]
  },
  {
   "cell_type": "markdown",
   "metadata": {},
   "source": [
    "### Custom Naming\n",
    "* A custom tensorflow name can be specified for a new variable\n",
    "* Custom names can still collide and will still be given a postfix for uniqueness"
   ]
  },
  {
   "cell_type": "code",
   "execution_count": 4,
   "metadata": {},
   "outputs": [
    {
     "name": "stdout",
     "output_type": "stream",
     "text": [
      "List of Global Variables\n",
      "    var_name:0\n",
      "    var_name_1:0\n"
     ]
    }
   ],
   "source": [
    "var1_tf = tf.Variable(42, name='var_name')\n",
    "var2_tf = tf.Variable(43, name='var_name')  # postfix is added \"var_name_1\"\n",
    "\n",
    "print(\"List of Global Variables\")\n",
    "for v in tf.global_variables(): print('   ', v.name)"
   ]
  },
  {
   "cell_type": "markdown",
   "metadata": {},
   "source": [
    "### Variable Scope\n",
    "* Variables can be within a scope\n",
    "* Scopes can be nested"
   ]
  },
  {
   "cell_type": "code",
   "execution_count": 5,
   "metadata": {},
   "outputs": [
    {
     "name": "stdout",
     "output_type": "stream",
     "text": [
      "List of Global Variables\n",
      "    var1_name:0\n",
      "    high_scope/var2_name:0\n",
      "    high_scope/var3_name:0\n",
      "    high_scope/low_scope/var4_name:0\n",
      "    high_scope/low_scope/var5_name:0\n"
     ]
    }
   ],
   "source": [
    "tf.reset_default_graph()\n",
    "var1_tf = tf.Variable(42, name=\"var1_name\")\n",
    "with tf.variable_scope(\"high_scope\"):\n",
    "    var2_tf = tf.Variable(43, name=\"var2_name\")\n",
    "    var3_tf = tf.Variable(43, name=\"var3_name\")\n",
    "    with tf.variable_scope(\"low_scope\"):\n",
    "        var4_tf = tf.Variable(44, name=\"var4_name\")\n",
    "        var5_tf = tf.Variable(44, name=\"var5_name\")\n",
    "\n",
    "print(\"List of Global Variables\")\n",
    "for v in tf.global_variables(): print('   ', v.name)"
   ]
  },
  {
   "cell_type": "markdown",
   "metadata": {},
   "source": [
    "### Listing Variables\n",
    "* `get_collection` can be used as an alternative to `global_variables`\n",
    "* `get_collection` can get variables in a limited scope"
   ]
  },
  {
   "cell_type": "code",
   "execution_count": 6,
   "metadata": {},
   "outputs": [
    {
     "name": "stdout",
     "output_type": "stream",
     "text": [
      "List of Global Variables\n",
      "    var1_name:0\n",
      "    high_scope/var2_name:0\n",
      "    high_scope/var3_name:0\n",
      "    high_scope/low_scope/var4_name:0\n",
      "    high_scope/low_scope/var5_name:0\n",
      "List of Variables in scope  of high_scope\n",
      "    high_scope/var2_name:0\n",
      "    high_scope/var3_name:0\n",
      "    high_scope/low_scope/var4_name:0\n",
      "    high_scope/low_scope/var5_name:0\n",
      "List of Variables in scope  of low_scope\n",
      "    high_scope/low_scope/var4_name:0\n",
      "    high_scope/low_scope/var5_name:0\n"
     ]
    }
   ],
   "source": [
    "print(\"List of Global Variables\")\n",
    "for v in tf.get_collection(tf.GraphKeys.GLOBAL_VARIABLES): print('   ', v.name)\n",
    "\n",
    "print(\"List of Variables in scope  of high_scope\")\n",
    "for v in tf.get_collection(tf.GraphKeys.GLOBAL_VARIABLES, scope='high_scope'): print('   ', v.name)\n",
    "\n",
    "print(\"List of Variables in scope  of low_scope\")\n",
    "for v in tf.get_collection(tf.GraphKeys.GLOBAL_VARIABLES, scope='high_scope/low_scope'): print('   ', v.name)"
   ]
  }
 ],
 "metadata": {
  "kernelspec": {
   "display_name": "Python 3",
   "language": "python",
   "name": "python3"
  },
  "language_info": {
   "codemirror_mode": {
    "name": "ipython",
    "version": 3
   },
   "file_extension": ".py",
   "mimetype": "text/x-python",
   "name": "python",
   "nbconvert_exporter": "python",
   "pygments_lexer": "ipython3",
   "version": "3.4.3"
  }
 },
 "nbformat": 4,
 "nbformat_minor": 2
}
