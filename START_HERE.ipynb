{
 "cells": [
  {
   "cell_type": "markdown",
   "metadata": {},
   "source": [
    "## Machine Learning Introduction\n",
    "\n",
    "<b>Training</b>\n",
    "\n",
    "* [Introduction to Training a Neural Net in Tensorflow](intro_tensorflow_learning.ipynb) - Trains a simple NN for mnist character recognition\n",
    "* [Predicting Text](demo_text_prediction.ipynb) - Trains a LSTM to predict upcoming characters \n",
    "\n",
    "<b>Tensorflow Basic Functions</b>\n",
    "\n",
    "* [Introduction to Tensorflow](intro_tensorflow.ipynb) - demonstrates basic functions of Tensorflow\n",
    "* [Variable Names and Scope](variable_names.ipynb) - creates variables and lists variables with scope\n",
    "* [Shaping and Slicing Tensors](shaping_tensors.ipynb) - demonstrates functions for slicing and dicing tensors\n",
    "* [Fitting a Line](line_fit.ipynb) - uses gradient descent to find the best fit line\n",
    "* [Activation Functions](demo_activation_functions.ipynb) - plots several Tensorflow activation functions\n"
   ]
  }
 ],
 "metadata": {
  "kernelspec": {
   "display_name": "Python 3",
   "language": "python",
   "name": "python3"
  },
  "language_info": {
   "codemirror_mode": {
    "name": "ipython",
    "version": 3
   },
   "file_extension": ".py",
   "mimetype": "text/x-python",
   "name": "python",
   "nbconvert_exporter": "python",
   "pygments_lexer": "ipython3",
   "version": "3.4.3"
  }
 },
 "nbformat": 4,
 "nbformat_minor": 2
}
